{
 "cells": [
  {
   "cell_type": "markdown",
   "id": "469d96a2-521e-498f-b6a4-1504be9fedc9",
   "metadata": {},
   "source": [
    "# Proyecto: Modelado de la Resistencia a la Compresión del Hormigón\n",
    "\n",
    "---\n",
    "\n",
    "## **Introducción**\n",
    "En este proyecto, construiremos un modelo de regresión utilizando la biblioteca Keras para predecir la resistencia a la compresión del hormigón. Exploraremos cómo las características de entrada, como los componentes químicos y físicos, afectan la resistencia.\n",
    "\n",
    "---\n",
    "\n",
    "## **Objetivos**\n",
    "1. Construir un modelo de referencia para predecir la resistencia del hormigón.\n",
    "2. Normalizar los datos y evaluar el impacto en el desempeño del modelo.\n",
    "3. Incrementar el número de épocas y observar cambios en la precisión.\n",
    "4. Añadir capas ocultas para mejorar el modelo y comparar resultados.\n",
    "\n",
    "---\n",
    "\n",
    "## **Datos**\n",
    "El conjunto de datos incluye los siguientes predictores:\n",
    "- **Cemento**: Cantidad de cemento en kg por metro cúbico.\n",
    "- **Escoria de alto horno**: Cantidad de escoria en kg por metro cúbico.\n",
    "- **Cenizas volantes**: Cantidad de cenizas volantes en kg por metro cúbico.\n",
    "- **Agua**: Cantidad de agua en kg por metro cúbico.\n",
    "- **Superplastificante**: Cantidad de aditivo superplastificante en kg por metro cúbico.\n",
    "- **Árido grueso**: Cantidad de árido grueso en kg por metro cúbico.\n",
    "- **Árido fino**: Cantidad de árido fino en kg por metro cúbico.\n",
    "- **Resistencia a la compresión (target)**: Valor objetivo medido en MPa.\n",
    "\n",
    "---\n",
    "\n",
    "## **Metodología**\n",
    "1. **Paso A**: Construir un modelo de referencia con una capa oculta.\n",
    "2. **Paso B**: Normalizar los datos y repetir el experimento.\n",
    "3. **Paso C**: Incrementar el número de épocas y evaluar cambios en el desempeño.\n",
    "4. **Paso D**: Añadir capas ocultas y comparar resultados.\n",
    "\n",
    "---\n",
    "\n",
    "## **Resultados esperados**\n",
    "- Analizar la media y desviación estándar del error cuadrático medio (MSE) en cada paso.\n",
    "- Evaluar cómo la normalización, épocas adicionales, y capas ocultas afectan la precisión del modelo.\n",
    "\n",
    "---\n",
    "\n",
    "## **Ejecución**\n",
    "Cada paso será desarrollado en las siguientes secciones del notebook:\n",
    "\n",
    "1. **Cargar y explorar los datos.**\n",
    "2. **Construir el modelo inicial (Paso A).**\n",
    "3. **Normalizar y repetir el experimento (Paso B).**\n",
    "4. **Incrementar épocas (Paso C).**\n",
    "5. **Agregar capas ocultas (Paso D).**\n",
    "\n",
    "---\n",
    "\n",
    "¡Listos para comenzar!\n"
   ]
  },
  {
   "cell_type": "code",
   "execution_count": 1,
   "id": "e4bf41af-f943-4ea9-9433-fae2bc642ca1",
   "metadata": {},
   "outputs": [],
   "source": [
    "raw_data_path = \"data/raw/concrete_data.csv\""
   ]
  },
  {
   "cell_type": "code",
   "execution_count": null,
   "id": "fca43118-46d5-4975-839d-459ed279e0f8",
   "metadata": {},
   "outputs": [],
   "source": []
  }
 ],
 "metadata": {
  "kernelspec": {
   "display_name": "Python 3 (ipykernel)",
   "language": "python",
   "name": "python3"
  },
  "language_info": {
   "codemirror_mode": {
    "name": "ipython",
    "version": 3
   },
   "file_extension": ".py",
   "mimetype": "text/x-python",
   "name": "python",
   "nbconvert_exporter": "python",
   "pygments_lexer": "ipython3",
   "version": "3.12.7"
  }
 },
 "nbformat": 4,
 "nbformat_minor": 5
}
